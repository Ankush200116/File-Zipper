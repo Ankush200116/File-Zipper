{
 "cells": [
  {
   "cell_type": "code",
   "execution_count": 2,
   "metadata": {},
   "outputs": [
    {
     "name": "stdout",
     "output_type": "stream",
     "text": [
      "Large text file 'large_text_file.txt' created successfully.\n"
     ]
    }
   ],
   "source": [
    "import os\n",
    "\n",
    "def create_large_text_file(file_path, size_in_mb):\n",
    "    with open(file_path, 'w') as file:\n",
    "        # Writing random data to the file to achieve the desired size\n",
    "        data = \"Lorem ipsum dolor sit amet, consectetur adipiscing elit. \" * (1024 * size_in_mb // 3)\n",
    "        file.write(data)\n",
    "\n",
    "file_path = \"text_file.txt\"\n",
    "size_in_mb = 2\n",
    "\n",
    "create_large_text_file(file_path, size_in_mb)\n",
    "print(f\"text file '{file_path}' created successfully.\")"
   ]
  },
  {
   "cell_type": "code",
   "execution_count": null,
   "metadata": {},
   "outputs": [],
   "source": []
  }
 ],
 "metadata": {
  "kernelspec": {
   "display_name": "Python 3",
   "language": "python",
   "name": "python3"
  },
  "language_info": {
   "codemirror_mode": {
    "name": "ipython",
    "version": 3
   },
   "file_extension": ".py",
   "mimetype": "text/x-python",
   "name": "python",
   "nbconvert_exporter": "python",
   "pygments_lexer": "ipython3",
   "version": "3.11.3"
  }
 },
 "nbformat": 4,
 "nbformat_minor": 2
}
